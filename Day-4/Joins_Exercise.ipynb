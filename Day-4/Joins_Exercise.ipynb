{
 "cells": [
  {
   "attachments": {},
   "cell_type": "markdown",
   "metadata": {},
   "source": [
    "## Joins"
   ]
  },
  {
   "cell_type": "code",
   "execution_count": 8,
   "metadata": {},
   "outputs": [],
   "source": [
    "from pyspark.sql import SparkSession\n",
    "from pyspark.sql.functions import struct\n",
    "from pyspark.sql.types import StructField,StructType,StringType,IntegerType\n",
    "\n",
    "\n",
    "\n",
    "# Create a Spark session\n",
    "spark = SparkSession.builder.appName(\"day3\").getOrCreate()\n"
   ]
  },
  {
   "attachments": {},
   "cell_type": "markdown",
   "metadata": {},
   "source": [
    "\n",
    "Question: You are given two DataFrames: employees_df and departments_df, which contain information about employees and their respective departments. The schema for the DataFrames is as follows:\n",
    "\n",
    "employees_df schema:\n",
    "|-- employee_id: integer (nullable = true)\n",
    "|-- employee_name: string (nullable = true)\n",
    "|-- department_id: integer (nullable = true)\n",
    "\n",
    "departments_df schema:\n",
    "\n",
    "|-- department_id: integer (nullable = true)\n",
    "|-- department_name: string (nullable = true)\n",
    "\n",
    "Employees DataFrame:\n",
    "                                                                                \n",
    "+-----------+-------------+-------------+\n",
    "|employee_id|employee_name|department_id|\n",
    "+-----------+-------------+-------------+\n",
    "|1          |Pallavi mam  |101          |\n",
    "|2          |Bob          |102          |\n",
    "|3          |Cathy        |101          |\n",
    "|4          |David        |103          |\n",
    "|5          |Amrit Sir    |104          |\n",
    "|6          |Alice        |null         |\n",
    "|7          |Eva          |null         |\n",
    "|8          |Frank        |110          |\n",
    "|9          |Grace        |109          |\n",
    "|10         |Henry        |null         |\n",
    "+-----------+-------------+-------------+\n",
    "\n",
    "\n",
    "\n",
    "Departments DataFrame:\n",
    "+-------------+------------------------+\n",
    "|department_id|department_name         |\n",
    "+-------------+------------------------+\n",
    "|101          |HR                      |\n",
    "|102          |Engineering             |\n",
    "|103          |Finance                 |\n",
    "|104          |Marketing               |\n",
    "|105          |Operations              |\n",
    "|106          |null                    |\n",
    "|107          |Operations              |\n",
    "|108          |Production              |\n",
    "|null         |Finance                 |\n",
    "|110          |Research and Development|\n",
    "+-------------+----------------------\n"
   ]
  },
  {
   "cell_type": "code",
   "execution_count": 10,
   "metadata": {},
   "outputs": [
    {
     "name": "stdout",
     "output_type": "stream",
     "text": [
      "Employees DataFrame:\n",
      "+-----------+-------------+-------------+\n",
      "|Employee_Id|Employee_name|department_id|\n",
      "+-----------+-------------+-------------+\n",
      "|          1|  Pallavi mam|          101|\n",
      "|          2|          Bob|          102|\n",
      "|          3|        Cathy|          101|\n",
      "|          4|        David|          103|\n",
      "|          5|    Amrit Sir|          104|\n",
      "|          6|        Alice|         null|\n",
      "|          7|          Eva|         null|\n",
      "|          8|        Frank|          110|\n",
      "|          9|        Grace|          109|\n",
      "|         10|        Henry|         null|\n",
      "+-----------+-------------+-------------+\n",
      "\n",
      "Departments DataFrame:\n",
      "+-------------+--------------------+\n",
      "|department_id|     department_name|\n",
      "+-------------+--------------------+\n",
      "|          101|                  HR|\n",
      "|          102|         Engineering|\n",
      "|          103|             Finance|\n",
      "|          104|           Marketing|\n",
      "|          105|          Operations|\n",
      "|          106|                null|\n",
      "|          107|          Operations|\n",
      "|          108|          Production|\n",
      "|         null|             Finance|\n",
      "|          110|Research and Deve...|\n",
      "+-------------+--------------------+\n",
      "\n"
     ]
    }
   ],
   "source": [
    "# Creating the data for employees_df\n",
    "employee_data = [\n",
    "    (1, \"Pallavi mam\", 101),\n",
    "    (2, \"Bob\", 102),\n",
    "    (3, \"Cathy\", 101),\n",
    "    (4, \"David\", 103),\n",
    "    (5, \"Amrit Sir\", 104),\n",
    "    (6, \"Alice\", None),\n",
    "    (7, \"Eva\", None),\n",
    "    (8, \"Frank\", 110),\n",
    "    (9, \"Grace\", 109),\n",
    "    (10, \"Henry\", None)\n",
    "]\n",
    "\n",
    "# Defining the schema for employees_df\n",
    "employee_schema = StructType([\n",
    "    StructField(\"Employee_Id\",IntegerType(),True),\n",
    "    StructField(\"Employee_name\",StringType(),True),\n",
    "    StructField(\"department_id\",IntegerType(),True)\n",
    "])\n",
    "\n",
    "# Creating the employees DataFrame using struct\n",
    "employees_df = spark.createDataFrame(employee_data, employee_schema)\n",
    "\n",
    "# Creating the data for departments_df\n",
    "department_data = [\n",
    "    (101, \"HR\"),\n",
    "    (102, \"Engineering\"),\n",
    "    (103, \"Finance\"),\n",
    "    (104, \"Marketing\"),\n",
    "    (105, \"Operations\"),\n",
    "    (106, None),\n",
    "    (107, \"Operations\"),\n",
    "    (108, \"Production\"),\n",
    "    (None, \"Finance\"),\n",
    "    (110, \"Research and Development\")\n",
    "]\n",
    "\n",
    "# Creating the departments DataFrame using struct\n",
    "department_schema = StructType([\n",
    "    StructField(\"department_id\",IntegerType(),True),\n",
    "    StructField(\"department_name\",StringType(),True)\n",
    "])\n",
    "\n",
    "department_df = spark.createDataFrame(data=department_data, schema=department_schema)\n",
    "\n",
    "\n",
    "print(\"Employees DataFrame:\")\n",
    "employees_df.show()\n",
    "\n",
    "print(\"Departments DataFrame:\")\n",
    "department_df.show()\n"
   ]
  },
  {
   "cell_type": "code",
   "execution_count": 27,
   "metadata": {},
   "outputs": [],
   "source": [
    "#CREATE TEMP TAVLE FOR EMPLOYEE AND DEPARTMENT\n",
    "department_df.createOrReplaceTempView(\"department\")\n",
    "employees_df.createOrReplaceTempView(\"employee\")\n"
   ]
  },
  {
   "attachments": {},
   "cell_type": "markdown",
   "metadata": {},
   "source": [
    "### Join Expressions\n",
    "\n",
    "Question: How can you combine the employees_df and departments_df DataFrames based on the common \"department_id\" column to get a combined DataFrame with employee names and their respective department names?"
   ]
  },
  {
   "cell_type": "code",
   "execution_count": 11,
   "metadata": {},
   "outputs": [
    {
     "name": "stderr",
     "output_type": "stream",
     "text": [
      "[Stage 10:==========>                                             (3 + 13) / 16]\r"
     ]
    },
    {
     "name": "stdout",
     "output_type": "stream",
     "text": [
      "+-------------+-----------+-------------+--------------------+\n",
      "|department_id|employee_id|employee_name|     department_name|\n",
      "+-------------+-----------+-------------+--------------------+\n",
      "|          101|          1|  Pallavi mam|                  HR|\n",
      "|          101|          3|        Cathy|                  HR|\n",
      "|          102|          2|          Bob|         Engineering|\n",
      "|          103|          4|        David|             Finance|\n",
      "|          104|          5|    Amrit Sir|           Marketing|\n",
      "|          110|          8|        Frank|Research and Deve...|\n",
      "+-------------+-----------+-------------+--------------------+\n",
      "\n"
     ]
    },
    {
     "name": "stderr",
     "output_type": "stream",
     "text": [
      "                                                                                \r"
     ]
    }
   ],
   "source": [
    "#pyspark\n",
    "\n",
    "joinExpression = department_df['department_id'] == employees_df['department_id']\n",
    "department_df.join(employees_df, joinExpression).select(department_df['department_id'],employees_df['employee_id'],employees_df['employee_name'],department_df['department_name']).show()"
   ]
  },
  {
   "cell_type": "code",
   "execution_count": 30,
   "metadata": {},
   "outputs": [
    {
     "name": "stdout",
     "output_type": "stream",
     "text": [
      "+-------------+-----------+-------------+--------------------+\n",
      "|department_id|employee_id|employee_name|     department_name|\n",
      "+-------------+-----------+-------------+--------------------+\n",
      "|          101|          1|  Pallavi mam|                  HR|\n",
      "|          101|          3|        Cathy|                  HR|\n",
      "|          102|          2|          Bob|         Engineering|\n",
      "|          103|          4|        David|             Finance|\n",
      "|          104|          5|    Amrit Sir|           Marketing|\n",
      "|          110|          8|        Frank|Research and Deve...|\n",
      "+-------------+-----------+-------------+--------------------+\n",
      "\n"
     ]
    }
   ],
   "source": [
    "#sql\n",
    "\n",
    "join_sql = spark.sql(\"\"\"\n",
    "                    select d.department_id, e.employee_id, e.employee_name, d.department_name\n",
    "                    from department d\n",
    "                    join employee e\n",
    "                    on d.department_id = e.department_id\n",
    "\"\"\")\n",
    "                     \n",
    "join_sql.show()"
   ]
  },
  {
   "attachments": {},
   "cell_type": "markdown",
   "metadata": {},
   "source": [
    "### Inner Joins\n",
    "\n",
    "Question: How can you retrieve employee names and their respective department names for employees belonging to the \"Engineering\" department?"
   ]
  },
  {
   "cell_type": "code",
   "execution_count": 29,
   "metadata": {},
   "outputs": [
    {
     "name": "stdout",
     "output_type": "stream",
     "text": [
      "+-------------+---------------+\n",
      "|employee_name|department_name|\n",
      "+-------------+---------------+\n",
      "|          Bob|    Engineering|\n",
      "+-------------+---------------+\n",
      "\n"
     ]
    }
   ],
   "source": [
    "#pyspark\n",
    "\n",
    "#inner join expression\n",
    "joinExpression = department_df['department_id'] == employees_df['department_id']\n",
    "#filtering engineering department using where\n",
    "department_df.join(employees_df, joinExpression).select(employees_df['employee_name'],department_df['department_name']).where(department_df['department_name']=='Engineering').show()"
   ]
  },
  {
   "cell_type": "code",
   "execution_count": 31,
   "metadata": {},
   "outputs": [
    {
     "name": "stdout",
     "output_type": "stream",
     "text": [
      "+-------------+---------------+\n",
      "|employee_name|department_name|\n",
      "+-------------+---------------+\n",
      "|          Bob|    Engineering|\n",
      "+-------------+---------------+\n",
      "\n"
     ]
    }
   ],
   "source": [
    "#sql\n",
    "\n",
    "inner_join_sql = spark.sql(\"\"\"\n",
    "                           select e.employee_name, d.department_name\n",
    "                           from department d\n",
    "                           join employee e\n",
    "                           on e.department_id = d.department_id\n",
    "                           where d.department_name = 'Engineering' \n",
    " \"\"\")\n",
    "inner_join_sql.show()\n"
   ]
  },
  {
   "attachments": {},
   "cell_type": "markdown",
   "metadata": {},
   "source": [
    "### Outer Joins\n",
    "\n",
    "Question: Retrieve a DataFrame that contains all employees along with their department names. If an employee doesn't have a department assigned, display \"No Department\"."
   ]
  },
  {
   "cell_type": "code",
   "execution_count": 19,
   "metadata": {},
   "outputs": [
    {
     "name": "stdout",
     "output_type": "stream",
     "text": [
      "+-------------+--------------------+\n",
      "|employee_name|     department_name|\n",
      "+-------------+--------------------+\n",
      "|No department|             Finance|\n",
      "|        Alice|       No department|\n",
      "|          Eva|       No department|\n",
      "|        Henry|       No department|\n",
      "|  Pallavi mam|                  HR|\n",
      "|        Cathy|                  HR|\n",
      "|          Bob|         Engineering|\n",
      "|        David|             Finance|\n",
      "|    Amrit Sir|           Marketing|\n",
      "|No department|          Operations|\n",
      "|No department|       No department|\n",
      "|No department|          Operations|\n",
      "|No department|          Production|\n",
      "|        Grace|       No department|\n",
      "|        Frank|Research and Deve...|\n",
      "+-------------+--------------------+\n",
      "\n"
     ]
    }
   ],
   "source": [
    "#pyspark\n",
    "\n",
    "#outer join expression\n",
    "joinTYpe='outer'\n",
    "Outer_join_df=department_df.join(employees_df, joinExpression, joinTYpe).select(employees_df['employee_name'],department_df['department_name'])\n",
    "\n",
    "#fill null values with \"No department\"\n",
    "\n",
    "Outer_join_df.na.fill(\"No department\").show()"
   ]
  },
  {
   "cell_type": "code",
   "execution_count": 32,
   "metadata": {},
   "outputs": [
    {
     "name": "stdout",
     "output_type": "stream",
     "text": [
      "+-------------+--------------------+\n",
      "|employee_name|     department_name|\n",
      "+-------------+--------------------+\n",
      "|        Alice|       no department|\n",
      "|          Eva|       no department|\n",
      "|        Henry|       no department|\n",
      "|  no Employee|             Finance|\n",
      "|  Pallavi mam|                  HR|\n",
      "|        Cathy|                  HR|\n",
      "|          Bob|         Engineering|\n",
      "|        David|             Finance|\n",
      "|    Amrit Sir|           Marketing|\n",
      "|  no Employee|          Operations|\n",
      "|  no Employee|       no department|\n",
      "|  no Employee|          Operations|\n",
      "|  no Employee|          Production|\n",
      "|        Grace|       no department|\n",
      "|        Frank|Research and Deve...|\n",
      "+-------------+--------------------+\n",
      "\n"
     ]
    }
   ],
   "source": [
    "#sql\n",
    "\n",
    "outer_join_sql = spark.sql(\"\"\"\n",
    "                            select coalesce(e.employee_name, 'no Employee') as employee_name, \n",
    "                                   coalesce(d.department_name, 'no department') as department_name\n",
    "                           from employee e\n",
    "                           full outer join department d\n",
    "                           on d.department_id = e.department_id\n",
    "\"\"\")\n",
    "outer_join_sql.show()"
   ]
  },
  {
   "attachments": {},
   "cell_type": "markdown",
   "metadata": {},
   "source": [
    "### Left Outer Joins\n",
    "\n",
    "Question: List all employees along with their department names. If an employee doesn't have a department assigned, display \"No Department\"."
   ]
  },
  {
   "cell_type": "code",
   "execution_count": 20,
   "metadata": {},
   "outputs": [
    {
     "name": "stdout",
     "output_type": "stream",
     "text": [
      "+-------------+--------------------+\n",
      "|employee_name|     department_name|\n",
      "+-------------+--------------------+\n",
      "|  Pallavi mam|                  HR|\n",
      "|          Bob|         Engineering|\n",
      "|        Cathy|                  HR|\n",
      "|        David|             Finance|\n",
      "|    Amrit Sir|           Marketing|\n",
      "|        Alice|       No Department|\n",
      "|          Eva|       No Department|\n",
      "|        Frank|Research and Deve...|\n",
      "|        Grace|       No Department|\n",
      "|        Henry|       No Department|\n",
      "+-------------+--------------------+\n",
      "\n"
     ]
    }
   ],
   "source": [
    "#pyspark\n",
    "\n",
    "joinType=\"left_outer\"\n",
    "#left joining two dfs and replacing na with \"No department\"\n",
    "employees_df.join(department_df,joinExpression,joinType).select(employees_df['employee_name'],department_df['department_name']).na.fill('No Department').show()"
   ]
  },
  {
   "cell_type": "code",
   "execution_count": 33,
   "metadata": {},
   "outputs": [
    {
     "name": "stdout",
     "output_type": "stream",
     "text": [
      "+-------------+--------------------+\n",
      "|employee_name|     department_name|\n",
      "+-------------+--------------------+\n",
      "|  Pallavi mam|                  HR|\n",
      "|          Bob|         Engineering|\n",
      "|        Cathy|                  HR|\n",
      "|        David|             Finance|\n",
      "|    Amrit Sir|           Marketing|\n",
      "|        Alice|       No Department|\n",
      "|          Eva|       No Department|\n",
      "|        Frank|Research and Deve...|\n",
      "|        Grace|       No Department|\n",
      "|        Henry|       No Department|\n",
      "+-------------+--------------------+\n",
      "\n"
     ]
    }
   ],
   "source": [
    "\n",
    "#SQL\n",
    "\n",
    "left_outer_join_sql = spark.sql(\"\"\"\n",
    "                                    select e.employee_name,coalesce(d.department_name, 'No Department') as department_name\n",
    "                                    from employee e\n",
    "                                    left outer join department d\n",
    "                                    on e.department_id = d.department_id       \n",
    "\n",
    "                                \"\"\")\n",
    "left_outer_join_sql.show()"
   ]
  },
  {
   "attachments": {},
   "cell_type": "markdown",
   "metadata": {},
   "source": [
    "### Right Outer Joins\n",
    "\n",
    "Question: Display a list of departments along with employee names. If a department has no employees, display \"No Employees\".\n",
    "\n"
   ]
  },
  {
   "cell_type": "code",
   "execution_count": 21,
   "metadata": {},
   "outputs": [
    {
     "name": "stdout",
     "output_type": "stream",
     "text": [
      "+--------------------+-------------+\n",
      "|     department_name|employee_name|\n",
      "+--------------------+-------------+\n",
      "|                  HR|        Cathy|\n",
      "|                  HR|  Pallavi mam|\n",
      "|         Engineering|          Bob|\n",
      "|             Finance|        David|\n",
      "|           Marketing|    Amrit Sir|\n",
      "|          Operations| No Employees|\n",
      "|        No Employees| No Employees|\n",
      "|          Operations| No Employees|\n",
      "|          Production| No Employees|\n",
      "|             Finance| No Employees|\n",
      "|Research and Deve...|        Frank|\n",
      "+--------------------+-------------+\n",
      "\n"
     ]
    }
   ],
   "source": [
    "#pyspark\n",
    "\n",
    "joinType=\"right_outer\"\n",
    "#right joining two dfs and replacing na with \"No Employees\"\n",
    "employees_df.join(department_df,joinExpression,joinType).select(department_df['department_name'],employees_df['employee_name']).na.fill('No Employees').show()"
   ]
  },
  {
   "cell_type": "code",
   "execution_count": 34,
   "metadata": {},
   "outputs": [
    {
     "name": "stdout",
     "output_type": "stream",
     "text": [
      "+--------------------+-------------+\n",
      "|     department_name|employee_name|\n",
      "+--------------------+-------------+\n",
      "|                  HR|        Cathy|\n",
      "|                  HR|  Pallavi mam|\n",
      "|         Engineering|          Bob|\n",
      "|             Finance|        David|\n",
      "|           Marketing|    Amrit Sir|\n",
      "|          Operations| No Employees|\n",
      "|                null| No Employees|\n",
      "|          Operations| No Employees|\n",
      "|          Production| No Employees|\n",
      "|             Finance| No Employees|\n",
      "|Research and Deve...|        Frank|\n",
      "+--------------------+-------------+\n",
      "\n"
     ]
    }
   ],
   "source": [
    "#sql\n",
    "\n",
    "right_outer_join_sql = spark.sql(\"\"\"\n",
    "                                select d.department_name as department_name,\n",
    "                                       coalesce(e.employee_name,'No Employees') as employee_name\n",
    "                                 from employee e\n",
    "                                 right outer join department d\n",
    "                                 on e.department_id = d.department_id\n",
    "                                \"\"\")\n",
    "\n",
    "right_outer_join_sql.show()"
   ]
  },
  {
   "attachments": {},
   "cell_type": "markdown",
   "metadata": {},
   "source": [
    "### Left Semi Joins\n",
    "\n",
    "Question: Retrieve a DataFrame that includes employee names for departments that have employees.\n",
    "\n"
   ]
  },
  {
   "cell_type": "code",
   "execution_count": 23,
   "metadata": {},
   "outputs": [
    {
     "name": "stdout",
     "output_type": "stream",
     "text": [
      "+-------------+\n",
      "|employee_name|\n",
      "+-------------+\n",
      "|  Pallavi mam|\n",
      "|        Cathy|\n",
      "|          Bob|\n",
      "|        David|\n",
      "|    Amrit Sir|\n",
      "|        Frank|\n",
      "+-------------+\n",
      "\n"
     ]
    },
    {
     "name": "stderr",
     "output_type": "stream",
     "text": [
      "                                                                                \r"
     ]
    }
   ],
   "source": [
    "#pyspark\n",
    "\n",
    "joinType=\"left_semi\"\n",
    "#shows employee name who has matching records in department df\n",
    "employees_df.join(department_df,joinExpression,joinType).select(employees_df['employee_name']).show()"
   ]
  },
  {
   "cell_type": "code",
   "execution_count": 35,
   "metadata": {},
   "outputs": [
    {
     "name": "stdout",
     "output_type": "stream",
     "text": [
      "+-------------+\n",
      "|employee_name|\n",
      "+-------------+\n",
      "|  Pallavi mam|\n",
      "|        Cathy|\n",
      "|          Bob|\n",
      "|        David|\n",
      "|    Amrit Sir|\n",
      "|        Frank|\n",
      "+-------------+\n",
      "\n"
     ]
    }
   ],
   "source": [
    "#sql\n",
    "\n",
    "left_semi_join_sql = spark.sql(\"\"\"\n",
    "                               select e.employee_name\n",
    "                               from employee e\n",
    "                               left semi join department d\n",
    "                               on e.department_id = d.department_id  \n",
    "                               \"\"\" )\n",
    "\n",
    "left_semi_join_sql.show()\n"
   ]
  },
  {
   "attachments": {},
   "cell_type": "markdown",
   "metadata": {},
   "source": [
    "### Left Anti Joins\n",
    "\n",
    "Question: Find the employees who don't belong to any department."
   ]
  },
  {
   "cell_type": "code",
   "execution_count": 24,
   "metadata": {},
   "outputs": [
    {
     "name": "stdout",
     "output_type": "stream",
     "text": [
      "+-------------+\n",
      "|employee_name|\n",
      "+-------------+\n",
      "|        Alice|\n",
      "|          Eva|\n",
      "|        Grace|\n",
      "|        Henry|\n",
      "+-------------+\n",
      "\n"
     ]
    }
   ],
   "source": [
    "#pyspark\n",
    "\n",
    "joinType=\"left_anti\"\n",
    "#shows employee name who doesnot have matching records in department df\n",
    "employees_df.join(department_df,joinExpression,joinType).select(employees_df['employee_name']).show()"
   ]
  },
  {
   "cell_type": "code",
   "execution_count": 36,
   "metadata": {},
   "outputs": [
    {
     "name": "stdout",
     "output_type": "stream",
     "text": [
      "+-------------+\n",
      "|employee_name|\n",
      "+-------------+\n",
      "|        Alice|\n",
      "|          Eva|\n",
      "|        Grace|\n",
      "|        Henry|\n",
      "+-------------+\n",
      "\n"
     ]
    }
   ],
   "source": [
    "#sql\n",
    "\n",
    "left_anti_join_sql = spark.sql(\"\"\"\n",
    "                               select e.employee_name\n",
    "                               from employee e\n",
    "                               left anti join department d\n",
    "                               on e.department_id = d.department_id       \n",
    "                               \"\"\" )\n",
    "\n",
    "left_anti_join_sql.show()\n"
   ]
  },
  {
   "attachments": {},
   "cell_type": "markdown",
   "metadata": {},
   "source": [
    "### Cross (Cartesian) Joins\n",
    "\n",
    "Question: Create a DataFrame that contains all possible combinations of employees and departments."
   ]
  },
  {
   "cell_type": "code",
   "execution_count": 25,
   "metadata": {},
   "outputs": [
    {
     "name": "stderr",
     "output_type": "stream",
     "text": [
      "[Stage 55:=============================================>        (84 + 16) / 100]\r"
     ]
    },
    {
     "name": "stdout",
     "output_type": "stream",
     "text": [
      "+-----------+-------------+-------------+-------------+--------------------+\n",
      "|Employee_Id|Employee_name|department_id|department_id|     department_name|\n",
      "+-----------+-------------+-------------+-------------+--------------------+\n",
      "|          1|  Pallavi mam|          101|          101|                  HR|\n",
      "|          1|  Pallavi mam|          101|          102|         Engineering|\n",
      "|          1|  Pallavi mam|          101|          103|             Finance|\n",
      "|          1|  Pallavi mam|          101|          104|           Marketing|\n",
      "|          1|  Pallavi mam|          101|          105|          Operations|\n",
      "|          1|  Pallavi mam|          101|          106|                null|\n",
      "|          1|  Pallavi mam|          101|          107|          Operations|\n",
      "|          1|  Pallavi mam|          101|          108|          Production|\n",
      "|          1|  Pallavi mam|          101|         null|             Finance|\n",
      "|          1|  Pallavi mam|          101|          110|Research and Deve...|\n",
      "|          2|          Bob|          102|          101|                  HR|\n",
      "|          2|          Bob|          102|          102|         Engineering|\n",
      "|          2|          Bob|          102|          103|             Finance|\n",
      "|          2|          Bob|          102|          104|           Marketing|\n",
      "|          2|          Bob|          102|          105|          Operations|\n",
      "|          2|          Bob|          102|          106|                null|\n",
      "|          2|          Bob|          102|          107|          Operations|\n",
      "|          2|          Bob|          102|          108|          Production|\n",
      "|          2|          Bob|          102|         null|             Finance|\n",
      "|          2|          Bob|          102|          110|Research and Deve...|\n",
      "+-----------+-------------+-------------+-------------+--------------------+\n",
      "only showing top 20 rows\n",
      "\n"
     ]
    },
    {
     "name": "stderr",
     "output_type": "stream",
     "text": [
      "                                                                                \r"
     ]
    }
   ],
   "source": [
    "#pyspark\n",
    "\n",
    "joinType = 'cross'\n",
    "#Cartesian product of two df\n",
    "#Be careful while using cross joins\n",
    "employees_df.crossJoin(department_df).show()"
   ]
  },
  {
   "cell_type": "code",
   "execution_count": 37,
   "metadata": {},
   "outputs": [
    {
     "name": "stderr",
     "output_type": "stream",
     "text": [
      "[Stage 107:===================================================>  (95 + 5) / 100]\r"
     ]
    },
    {
     "name": "stdout",
     "output_type": "stream",
     "text": [
      "+-----------+-------------+-------------+-------------+--------------------+\n",
      "|Employee_Id|Employee_name|department_id|department_id|     department_name|\n",
      "+-----------+-------------+-------------+-------------+--------------------+\n",
      "|          1|  Pallavi mam|          101|          101|                  HR|\n",
      "|          1|  Pallavi mam|          101|          102|         Engineering|\n",
      "|          1|  Pallavi mam|          101|          103|             Finance|\n",
      "|          1|  Pallavi mam|          101|          104|           Marketing|\n",
      "|          1|  Pallavi mam|          101|          105|          Operations|\n",
      "|          1|  Pallavi mam|          101|          106|                null|\n",
      "|          1|  Pallavi mam|          101|          107|          Operations|\n",
      "|          1|  Pallavi mam|          101|          108|          Production|\n",
      "|          1|  Pallavi mam|          101|         null|             Finance|\n",
      "|          1|  Pallavi mam|          101|          110|Research and Deve...|\n",
      "|          2|          Bob|          102|          101|                  HR|\n",
      "|          2|          Bob|          102|          102|         Engineering|\n",
      "|          2|          Bob|          102|          103|             Finance|\n",
      "|          2|          Bob|          102|          104|           Marketing|\n",
      "|          2|          Bob|          102|          105|          Operations|\n",
      "|          2|          Bob|          102|          106|                null|\n",
      "|          2|          Bob|          102|          107|          Operations|\n",
      "|          2|          Bob|          102|          108|          Production|\n",
      "|          2|          Bob|          102|         null|             Finance|\n",
      "|          2|          Bob|          102|          110|Research and Deve...|\n",
      "+-----------+-------------+-------------+-------------+--------------------+\n",
      "only showing top 20 rows\n",
      "\n"
     ]
    },
    {
     "name": "stderr",
     "output_type": "stream",
     "text": [
      "                                                                                \r"
     ]
    }
   ],
   "source": [
    "#sql\n",
    "\n",
    "cross_join_sql = spark.sql(\"\"\"\n",
    "                           select * \n",
    "                           from employee\n",
    "                           cross join department\n",
    "                           \"\"\")\n",
    "                           \n",
    "cross_join_sql.show()\n"
   ]
  }
 ],
 "metadata": {
  "kernelspec": {
   "display_name": "venv",
   "language": "python",
   "name": "venv"
  },
  "language_info": {
   "codemirror_mode": {
    "name": "ipython",
    "version": 3
   },
   "file_extension": ".py",
   "mimetype": "text/x-python",
   "name": "python",
   "nbconvert_exporter": "python",
   "pygments_lexer": "ipython3",
   "version": "3.10.12"
  },
  "orig_nbformat": 4
 },
 "nbformat": 4,
 "nbformat_minor": 2
}
